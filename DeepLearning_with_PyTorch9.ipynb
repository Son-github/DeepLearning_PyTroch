{
  "nbformat": 4,
  "nbformat_minor": 0,
  "metadata": {
    "colab": {
      "provenance": [],
      "authorship_tag": "ABX9TyOJ3ALtcq5mpSoGyR15qZ8/",
      "include_colab_link": true
    },
    "kernelspec": {
      "name": "python3",
      "display_name": "Python 3"
    },
    "language_info": {
      "name": "python"
    }
  },
  "cells": [
    {
      "cell_type": "markdown",
      "metadata": {
        "id": "view-in-github",
        "colab_type": "text"
      },
      "source": [
        "<a href=\"https://colab.research.google.com/github/Son-github/DeepLearning_PyTroch/blob/main/DeepLearning_with_PyTorch9.ipynb\" target=\"_parent\"><img src=\"https://colab.research.google.com/assets/colab-badge.svg\" alt=\"Open In Colab\"/></a>"
      ]
    },
    {
      "cell_type": "markdown",
      "source": [
        "# **순환 신경망(Recurrent Neural Network, RNN)**"
      ],
      "metadata": {
        "id": "jaAi9yuNckuX"
      }
    },
    {
      "cell_type": "markdown",
      "source": [
        "numpy를 이용해 RNN 구현"
      ],
      "metadata": {
        "id": "91Eg__HZcyCN"
      }
    },
    {
      "cell_type": "code",
      "execution_count": 1,
      "metadata": {
        "id": "50KGkYtXZ2Ct"
      },
      "outputs": [],
      "source": [
        "import numpy as np\n",
        "\n",
        "timesteps = 10 # 시점의 수. NLP에서는 보통 문장의 길이가 됨\n",
        "input_size = 4 # 입력의 차원. NLP에서는 보통 단어 벡터의 차원이 됨\n",
        "hidden_size = 8 # 은닉 상태의 크기. 메모리 셀의 용량\n",
        "\n",
        "inputs = np.random.random((timesteps, input_size)) # 입력에 해당되는 2D 텐서\n",
        "\n",
        "hidden_state_t = np.zeros((hidden_size,)) # 초기 은닉 상태는 0(벡터)로 초기화\n",
        "# 은닉 상태의 크기 hidden_size로 은닉 상태를 만듬"
      ]
    },
    {
      "cell_type": "code",
      "source": [
        "print(hidden_state_t) # 8의 크기를 가지는 은닉 상태. 현재는 초기 은닉 상태로 모든 차원이 0의 값을 가짐"
      ],
      "metadata": {
        "colab": {
          "base_uri": "https://localhost:8080/"
        },
        "id": "grwp91I3axAe",
        "outputId": "414a9b5d-749b-483c-f236-ca64858c4ba5"
      },
      "execution_count": 2,
      "outputs": [
        {
          "output_type": "stream",
          "name": "stdout",
          "text": [
            "[0. 0. 0. 0. 0. 0. 0. 0.]\n"
          ]
        }
      ]
    },
    {
      "cell_type": "code",
      "source": [
        "Wx = np.random.random((hidden_size, input_size))  # (8, 4)크기의 2D 텐서 생성. 입력에 대한 가중치.\n",
        "Wh = np.random.random((hidden_size, hidden_size)) # (8, 8)크기의 2D 텐서 생성. 은닉 상태에 대한 가중치.\n",
        "b = np.random.random((hidden_size,)) # (8,)크기의 1D 텐서 생성. 이 값은 편향(bias)."
      ],
      "metadata": {
        "id": "1d8Hl78PbE1N"
      },
      "execution_count": 4,
      "outputs": []
    },
    {
      "cell_type": "code",
      "source": [
        "print(np.shape(Wx))\n",
        "print(np.shape(Wh))\n",
        "print(np.shape(b))"
      ],
      "metadata": {
        "colab": {
          "base_uri": "https://localhost:8080/"
        },
        "id": "SaGbEGIva8Mu",
        "outputId": "c65d6c89-f2dd-494a-9daa-a7120f8c9343"
      },
      "execution_count": 5,
      "outputs": [
        {
          "output_type": "stream",
          "name": "stdout",
          "text": [
            "(8, 4)\n",
            "(8, 8)\n",
            "(8,)\n"
          ]
        }
      ]
    },
    {
      "cell_type": "code",
      "source": [
        "total_hidden_states = []\n",
        "\n",
        "# 메모리 셀 동작\n",
        "for input_t in inputs: # 각 시점에 따라서 입력값이 입력됨.\n",
        "  output_t = np.tanh(np.dot(Wx,input_t) + np.dot(Wh,hidden_state_t) + b) # Wx * Xt + Wh * Ht-1 + b(bias)\n",
        "  total_hidden_states.append(list(output_t)) # 각 시점의 은닉 상태의 값을 계속해서 축적\n",
        "  print(np.shape(total_hidden_states)) # 각 시점 t별 메모리 셀의 출력의 크기는 (timestep, output_dim)\n",
        "  hidden_state_t = output_t\n",
        "\n",
        "total_hidden_states = np.stack(total_hidden_states, axis = 0) \n",
        "# 출력 시 값을 깔끔하게 해준다.\n",
        "\n",
        "print(total_hidden_states) # (timesteps, output_dim)의 크기. 이 경우 (10, 8)의 크기를 가지는 메모리 셀의 2D 텐서를 출력."
      ],
      "metadata": {
        "colab": {
          "base_uri": "https://localhost:8080/"
        },
        "id": "BuM3ledpbAKa",
        "outputId": "8ff15af4-e75b-46ae-ba44-2e98fc7db33d"
      },
      "execution_count": 7,
      "outputs": [
        {
          "output_type": "stream",
          "name": "stdout",
          "text": [
            "(1, 8)\n",
            "(2, 8)\n",
            "(3, 8)\n",
            "(4, 8)\n",
            "(5, 8)\n",
            "(6, 8)\n",
            "(7, 8)\n",
            "(8, 8)\n",
            "(9, 8)\n",
            "(10, 8)\n",
            "[[0.99953719 0.99999397 0.99999518 0.99996293 0.99999673 0.99999605\n",
            "  0.99987314 0.9999915 ]\n",
            " [0.99973871 0.99999474 0.99999648 0.99996752 0.99999806 0.99999814\n",
            "  0.99988039 0.99999463]\n",
            " [0.99983598 0.99999678 0.99999849 0.99998083 0.99999886 0.9999979\n",
            "  0.99989348 0.99999734]\n",
            " [0.99958214 0.99998918 0.99999505 0.99986803 0.99999537 0.99998668\n",
            "  0.99977017 0.99999008]\n",
            " [0.99977694 0.99999713 0.99999774 0.99997639 0.99999875 0.99999855\n",
            "  0.99991646 0.99999616]\n",
            " [0.99977681 0.99998667 0.99999583 0.9999322  0.99999703 0.99999589\n",
            "  0.99971466 0.9999931 ]\n",
            " [0.9997284  0.99999452 0.99999681 0.99996585 0.99999783 0.99999705\n",
            "  0.99987259 0.99999494]\n",
            " [0.9997513  0.99999629 0.99999757 0.99995783 0.99999838 0.99999705\n",
            "  0.9998891  0.99999526]\n",
            " [0.99984462 0.99999892 0.99999904 0.99998821 0.99999942 0.999999\n",
            "  0.99995179 0.9999981 ]\n",
            " [0.99870619 0.99998069 0.99997551 0.99985959 0.99998662 0.99999124\n",
            "  0.99983494 0.99997191]]\n"
          ]
        }
      ]
    },
    {
      "cell_type": "markdown",
      "source": [
        "PyTorch의 nn.RNN()을 이용해 구현"
      ],
      "metadata": {
        "id": "BqX1XzKdc1uW"
      }
    },
    {
      "cell_type": "code",
      "source": [
        "import torch\n",
        "import torch.nn as nn"
      ],
      "metadata": {
        "id": "WNbwIwttcSwK"
      },
      "execution_count": 8,
      "outputs": []
    },
    {
      "cell_type": "code",
      "source": [
        "input_size = 5 # 입력의 크기\n",
        "hidden_size = 8 # 은닉 상태의 크기"
      ],
      "metadata": {
        "id": "zDif0L3Gc8oM"
      },
      "execution_count": 9,
      "outputs": []
    },
    {
      "cell_type": "code",
      "source": [
        "# (batch_size, time_steps, input_size) => 배치 크기는 1, 10번의 시점동안 5차원의 입력 벡터가 들어가도록 텐서를 정의\n",
        "inputs = torch.Tensor(1, 10, 5)"
      ],
      "metadata": {
        "id": "fOCSDQpLdErQ"
      },
      "execution_count": 10,
      "outputs": []
    },
    {
      "cell_type": "code",
      "source": [
        "cell = nn.RNN(input_size, hidden_size, batch_first=True)\n",
        "# 입력의 크기, 은닉 상태의 크기를 정의. batch_first=True를 통해서 입력 텐서의 첫번째 차원이 배치의 크기임을 알려줌."
      ],
      "metadata": {
        "id": "q0cd8QPjft2o"
      },
      "execution_count": 11,
      "outputs": []
    },
    {
      "cell_type": "code",
      "source": [
        "outputs, _status = cell(inputs)\n",
        "# 첫번째 리턴값은 모든 시점(timesteps)의 은닉 상태들, 두번째 리턴값은 마지막 시점(timestep)의 은닉 상태"
      ],
      "metadata": {
        "id": "LcLMzp3XgBb0"
      },
      "execution_count": 12,
      "outputs": []
    },
    {
      "cell_type": "code",
      "source": [
        "print(outputs.shape) # 모든 time_step의 hidden_state\n",
        "# 10번의 시점동안 8차원의 은닉상태가 출력"
      ],
      "metadata": {
        "colab": {
          "base_uri": "https://localhost:8080/"
        },
        "id": "WFfmCm87gHRO",
        "outputId": "bed5b576-3ce3-4003-ef66-ecb2cd173042"
      },
      "execution_count": 13,
      "outputs": [
        {
          "output_type": "stream",
          "name": "stdout",
          "text": [
            "torch.Size([1, 10, 8])\n"
          ]
        }
      ]
    },
    {
      "cell_type": "code",
      "source": [
        "print(_status.shape) # 최종 time-step의 hidden_state"
      ],
      "metadata": {
        "colab": {
          "base_uri": "https://localhost:8080/"
        },
        "id": "gCLQy1G3gZPP",
        "outputId": "c222dbf7-7ec1-442d-d9c2-34c8e2210d66"
      },
      "execution_count": 14,
      "outputs": [
        {
          "output_type": "stream",
          "name": "stdout",
          "text": [
            "torch.Size([1, 1, 8])\n"
          ]
        }
      ]
    },
    {
      "cell_type": "markdown",
      "source": [
        "깊은 순환 신경망(Deep Recurrent Neural Network)"
      ],
      "metadata": {
        "id": "KAiMYaZghV9E"
      }
    },
    {
      "cell_type": "code",
      "source": [
        "cell = nn.RNN(input_size=5, hidden_size=8, num_layers=2, batch_first=True)"
      ],
      "metadata": {
        "id": "3-4AeOa0gqZv"
      },
      "execution_count": 15,
      "outputs": []
    },
    {
      "cell_type": "code",
      "source": [
        "outputs, _status = cell(inputs)"
      ],
      "metadata": {
        "id": "Q61Ofi1khNDf"
      },
      "execution_count": 18,
      "outputs": []
    },
    {
      "cell_type": "code",
      "source": [
        "print(outputs.shape) # 모든 time-step의 hidden_state"
      ],
      "metadata": {
        "colab": {
          "base_uri": "https://localhost:8080/"
        },
        "id": "zDibKRarg-ND",
        "outputId": "2ac53d65-870b-4473-caa7-09f7ff3d7797"
      },
      "execution_count": 19,
      "outputs": [
        {
          "output_type": "stream",
          "name": "stdout",
          "text": [
            "torch.Size([1, 10, 8])\n"
          ]
        }
      ]
    },
    {
      "cell_type": "code",
      "source": [
        "print(_status.shape) # (층의 개수, 배치 크기, 은닉 상태의 크기)"
      ],
      "metadata": {
        "colab": {
          "base_uri": "https://localhost:8080/"
        },
        "id": "mN0yMuQShEFs",
        "outputId": "37ae380c-455c-43ae-f82a-b02078d7e43e"
      },
      "execution_count": 20,
      "outputs": [
        {
          "output_type": "stream",
          "name": "stdout",
          "text": [
            "torch.Size([2, 1, 8])\n"
          ]
        }
      ]
    },
    {
      "cell_type": "markdown",
      "source": [
        "양방향 순환 신경망(Bidirectional Recurrent Neural Networt)"
      ],
      "metadata": {
        "id": "2XT63fPjhvAk"
      }
    },
    {
      "cell_type": "code",
      "source": [
        "cell = nn.RNN(input_size=5, hidden_size=8, num_layers=2, batch_first=True, bidirectional=True)"
      ],
      "metadata": {
        "id": "9p8q7ReQhJD_"
      },
      "execution_count": 22,
      "outputs": []
    },
    {
      "cell_type": "code",
      "source": [
        "outputs, _status = cell(inputs)"
      ],
      "metadata": {
        "id": "zOxY2ck1iCG0"
      },
      "execution_count": 23,
      "outputs": []
    },
    {
      "cell_type": "code",
      "source": [
        "print(outputs.shape) # 단방향 RNN 셀 때 보다 은닉 상태의 크기의 값이 두 배가 됨"
      ],
      "metadata": {
        "colab": {
          "base_uri": "https://localhost:8080/"
        },
        "id": "kr6Cw6mSiOSy",
        "outputId": "8e4c3be7-1759-4b9b-fc5d-b07f674b0930"
      },
      "execution_count": 24,
      "outputs": [
        {
          "output_type": "stream",
          "name": "stdout",
          "text": [
            "torch.Size([1, 10, 16])\n"
          ]
        }
      ]
    },
    {
      "cell_type": "code",
      "source": [
        "print(_status.shape) # (층의 개수 x 2, 배치 크기, 은닉 상태의 크기)\n",
        "# (층의 개수 x 2, 배치 크기, 은닉 상태의 크기)를 가짐."
      ],
      "metadata": {
        "colab": {
          "base_uri": "https://localhost:8080/"
        },
        "id": "kxly0ymliQ-4",
        "outputId": "ffae692f-d3dc-42c8-d75f-729d0840809d"
      },
      "execution_count": 25,
      "outputs": [
        {
          "output_type": "stream",
          "name": "stdout",
          "text": [
            "torch.Size([4, 1, 8])\n"
          ]
        }
      ]
    },
    {
      "cell_type": "markdown",
      "source": [
        "PyTorch의 nn.LSTM()"
      ],
      "metadata": {
        "id": "K-y9OQ5CkmXk"
      }
    },
    {
      "cell_type": "code",
      "source": [
        "# nn.LSTM(input_dim, hidden_size, batch_first=True) 형식으로 씀"
      ],
      "metadata": {
        "id": "8HyqaRbmifgg"
      },
      "execution_count": 26,
      "outputs": []
    },
    {
      "cell_type": "markdown",
      "source": [
        "PyTorch의 nn.GRU()"
      ],
      "metadata": {
        "id": "tumCr6-7lPPb"
      }
    },
    {
      "cell_type": "code",
      "source": [
        "# nn.GRU(input_dim, hidden_size, batch_first=True) 형식으로 씀"
      ],
      "metadata": {
        "id": "fPLwsrvFk8Us"
      },
      "execution_count": null,
      "outputs": []
    }
  ]
}